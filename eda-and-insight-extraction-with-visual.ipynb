{
 "cells": [
  {
   "cell_type": "markdown",
   "id": "cd2cca17",
   "metadata": {
    "papermill": {
     "duration": 0.006263,
     "end_time": "2023-04-24T02:20:41.515547",
     "exception": false,
     "start_time": "2023-04-24T02:20:41.509284",
     "status": "completed"
    },
    "tags": []
   },
   "source": [
    "<p style=\"text-align:center;color:crimson;font-size:35px;\">EDA and Insight getharing with visulization  </p>"
   ]
  },
  {
   "cell_type": "markdown",
   "id": "b7e96532",
   "metadata": {
    "papermill": {
     "duration": 0.004414,
     "end_time": "2023-04-24T02:20:41.525005",
     "exception": false,
     "start_time": "2023-04-24T02:20:41.520591",
     "status": "completed"
    },
    "tags": []
   },
   "source": [
    "!['Insight Extraction'](http://encrypted-tbn0.gstatic.com/images?q=tbn:ANd9GcSWvJfD33yVmmMet3W0p3ABhaHLt5HWIVVKyQ&usqp=CAU)"
   ]
  },
  {
   "cell_type": "code",
   "execution_count": 1,
   "id": "b67c8a8d",
   "metadata": {
    "_cell_guid": "b1076dfc-b9ad-4769-8c92-a6c4dae69d19",
    "_uuid": "8f2839f25d086af736a60e9eeb907d3b93b6e0e5",
    "execution": {
     "iopub.execute_input": "2023-04-24T02:20:41.537655Z",
     "iopub.status.busy": "2023-04-24T02:20:41.536596Z",
     "iopub.status.idle": "2023-04-24T02:20:42.679301Z",
     "shell.execute_reply": "2023-04-24T02:20:42.678370Z"
    },
    "papermill": {
     "duration": 1.15224,
     "end_time": "2023-04-24T02:20:42.682081",
     "exception": false,
     "start_time": "2023-04-24T02:20:41.529841",
     "status": "completed"
    },
    "tags": []
   },
   "outputs": [
    {
     "name": "stdout",
     "output_type": "stream",
     "text": [
      "/kaggle/input/fitness-consumer-survey-data/survey 605.xlsx\n",
      "/kaggle/input/fitness-consumer-survey-data/survey 605.csv\n"
     ]
    }
   ],
   "source": [
    "# import neccesory library\n",
    "\n",
    "import numpy as np # linear algebra\n",
    "import pandas as pd # data processing\n",
    "import matplotlib.pyplot as plt\n",
    "import seaborn as sns\n",
    "\n",
    "import os\n",
    "for dirname, _, filenames in os.walk('/kaggle/input'):\n",
    "    for filename in filenames:\n",
    "        print(os.path.join(dirname, filename))"
   ]
  },
  {
   "cell_type": "code",
   "execution_count": 2,
   "id": "b69bf82c",
   "metadata": {
    "execution": {
     "iopub.execute_input": "2023-04-24T02:20:42.694889Z",
     "iopub.status.busy": "2023-04-24T02:20:42.694308Z",
     "iopub.status.idle": "2023-04-24T02:20:42.747703Z",
     "shell.execute_reply": "2023-04-24T02:20:42.746662Z"
    },
    "papermill": {
     "duration": 0.06247,
     "end_time": "2023-04-24T02:20:42.750340",
     "exception": false,
     "start_time": "2023-04-24T02:20:42.687870",
     "status": "completed"
    },
    "tags": []
   },
   "outputs": [
    {
     "data": {
      "text/html": [
       "<div>\n",
       "<style scoped>\n",
       "    .dataframe tbody tr th:only-of-type {\n",
       "        vertical-align: middle;\n",
       "    }\n",
       "\n",
       "    .dataframe tbody tr th {\n",
       "        vertical-align: top;\n",
       "    }\n",
       "\n",
       "    .dataframe thead th {\n",
       "        text-align: right;\n",
       "    }\n",
       "</style>\n",
       "<table border=\"1\" class=\"dataframe\">\n",
       "  <thead>\n",
       "    <tr style=\"text-align: right;\">\n",
       "      <th></th>\n",
       "      <th>Timestamp</th>\n",
       "      <th>What is your age?</th>\n",
       "      <th>What is your gender?</th>\n",
       "      <th>What is your highest level of education?</th>\n",
       "      <th>What is your current occupation?</th>\n",
       "      <th>How often do you exercise in a week?</th>\n",
       "      <th>How long have you been using a fitness wearable?</th>\n",
       "      <th>How frequently do you use your fitness wearable?</th>\n",
       "      <th>How often do you track fitness data using wearable?</th>\n",
       "      <th>How has the fitness wearable impacted your fitness routine?</th>\n",
       "      <th>Has the fitness wearable helped you stay motivated to exercise?</th>\n",
       "      <th>Do you think that the fitness wearable has made exercising more enjoyable?</th>\n",
       "      <th>How engaged do you feel with your fitness wearable?</th>\n",
       "      <th>Does using a fitness wearable make you feel more connected to the fitness community?</th>\n",
       "      <th>How has the fitness wearable helped you achieve your fitness goals?</th>\n",
       "      <th>How has the fitness wearable impacted your overall health?</th>\n",
       "      <th>Has the fitness wearable improved your sleep patterns?</th>\n",
       "      <th>Do you feel that the fitness wearable has improved your overall well-being?</th>\n",
       "      <th>Has using a fitness wearable influenced your decision? [To exercise more?]</th>\n",
       "      <th>Has using a fitness wearable influenced your decision? [To purchase other fitness-related products?]</th>\n",
       "      <th>Has using a fitness wearable influenced your decision? [To join a gym or fitness class?]</th>\n",
       "      <th>Has using a fitness wearable influenced your decision? [To change your diet?]</th>\n",
       "    </tr>\n",
       "  </thead>\n",
       "  <tbody>\n",
       "    <tr>\n",
       "      <th>0</th>\n",
       "      <td>2023/03/30 9:43:19 PM GMT+5:30</td>\n",
       "      <td>18-24</td>\n",
       "      <td>Male</td>\n",
       "      <td>Some college or associate degree</td>\n",
       "      <td>Student</td>\n",
       "      <td>5 or more times a week</td>\n",
       "      <td>Less than 6 months</td>\n",
       "      <td>Daily</td>\n",
       "      <td>Every day</td>\n",
       "      <td>Positively impacted my fitness routine</td>\n",
       "      <td>Strongly agree</td>\n",
       "      <td>Strongly agree</td>\n",
       "      <td>Very engaged</td>\n",
       "      <td>Agree</td>\n",
       "      <td>No impact on achieving my goals</td>\n",
       "      <td>No impact on my overall health</td>\n",
       "      <td>Agree</td>\n",
       "      <td>Neutral</td>\n",
       "      <td>Strongly agree</td>\n",
       "      <td>Neutral</td>\n",
       "      <td>Agree</td>\n",
       "      <td>Agree</td>\n",
       "    </tr>\n",
       "    <tr>\n",
       "      <th>1</th>\n",
       "      <td>2023/03/31 5:07:46 PM GMT+5:30</td>\n",
       "      <td>Under 18</td>\n",
       "      <td>Male</td>\n",
       "      <td>Bachelor's degree</td>\n",
       "      <td>Student</td>\n",
       "      <td>5 or more times a week</td>\n",
       "      <td>Less than 6 months</td>\n",
       "      <td>3-4 times a week</td>\n",
       "      <td>Once a week</td>\n",
       "      <td>Positively impacted my fitness routine</td>\n",
       "      <td>Neutral</td>\n",
       "      <td>Agree</td>\n",
       "      <td>Somewhat engaged</td>\n",
       "      <td>Agree</td>\n",
       "      <td>Helped me achieve my goals somewhat more quickly</td>\n",
       "      <td>Improved my overall health somewhat</td>\n",
       "      <td>Agree</td>\n",
       "      <td>Strongly agree</td>\n",
       "      <td>Agree</td>\n",
       "      <td>Neutral</td>\n",
       "      <td>Neutral</td>\n",
       "      <td>Neutral</td>\n",
       "    </tr>\n",
       "    <tr>\n",
       "      <th>2</th>\n",
       "      <td>2023/03/31 7:44:46 PM GMT+5:30</td>\n",
       "      <td>18-24</td>\n",
       "      <td>Female</td>\n",
       "      <td>Bachelor's degree</td>\n",
       "      <td>Student</td>\n",
       "      <td>Less than once a week</td>\n",
       "      <td>Less than 6 months</td>\n",
       "      <td>Rarely</td>\n",
       "      <td>Rarely</td>\n",
       "      <td>Positively impacted my fitness routine</td>\n",
       "      <td>Strongly agree</td>\n",
       "      <td>Agree</td>\n",
       "      <td>Not very engaged</td>\n",
       "      <td>Strongly agree</td>\n",
       "      <td>Helped me achieve my goals much more quickly</td>\n",
       "      <td>Improved my overall health significantly</td>\n",
       "      <td>Strongly agree</td>\n",
       "      <td>Strongly agree</td>\n",
       "      <td>Agree</td>\n",
       "      <td>Agree</td>\n",
       "      <td>Strongly agree</td>\n",
       "      <td>Agree</td>\n",
       "    </tr>\n",
       "  </tbody>\n",
       "</table>\n",
       "</div>"
      ],
      "text/plain": [
       "                        Timestamp What is your age? What is your gender?  \\\n",
       "0  2023/03/30 9:43:19 PM GMT+5:30             18-24                 Male   \n",
       "1  2023/03/31 5:07:46 PM GMT+5:30          Under 18                 Male   \n",
       "2  2023/03/31 7:44:46 PM GMT+5:30             18-24               Female   \n",
       "\n",
       "  What is your highest level of education? What is your current occupation?  \\\n",
       "0         Some college or associate degree                          Student   \n",
       "1                        Bachelor's degree                          Student   \n",
       "2                        Bachelor's degree                          Student   \n",
       "\n",
       "  How often do you exercise in a week?  \\\n",
       "0               5 or more times a week   \n",
       "1               5 or more times a week   \n",
       "2                Less than once a week   \n",
       "\n",
       "  How long have you been using a fitness wearable?  \\\n",
       "0                               Less than 6 months   \n",
       "1                               Less than 6 months   \n",
       "2                               Less than 6 months   \n",
       "\n",
       "  How frequently do you use your fitness wearable?  \\\n",
       "0                                            Daily   \n",
       "1                                 3-4 times a week   \n",
       "2                                           Rarely   \n",
       "\n",
       "  How often do you track fitness data using wearable?  \\\n",
       "0                                          Every day    \n",
       "1                                        Once a week    \n",
       "2                                             Rarely    \n",
       "\n",
       "  How has the fitness wearable impacted your fitness routine?  \\\n",
       "0             Positively impacted my fitness routine            \n",
       "1             Positively impacted my fitness routine            \n",
       "2             Positively impacted my fitness routine            \n",
       "\n",
       "  Has the fitness wearable helped you stay motivated to exercise?  \\\n",
       "0                                     Strongly agree                \n",
       "1                                            Neutral                \n",
       "2                                     Strongly agree                \n",
       "\n",
       "  Do you think that the fitness wearable has made exercising more enjoyable?  \\\n",
       "0                                     Strongly agree                           \n",
       "1                                              Agree                           \n",
       "2                                              Agree                           \n",
       "\n",
       "  How engaged do you feel with your fitness wearable?  \\\n",
       "0                                       Very engaged    \n",
       "1                                   Somewhat engaged    \n",
       "2                                   Not very engaged    \n",
       "\n",
       "  Does using a fitness wearable make you feel more connected to the fitness community?  \\\n",
       "0                                              Agree                                     \n",
       "1                                              Agree                                     \n",
       "2                                     Strongly agree                                     \n",
       "\n",
       "  How has the fitness wearable helped you achieve your fitness goals?  \\\n",
       "0                    No impact on achieving my goals                    \n",
       "1   Helped me achieve my goals somewhat more quickly                    \n",
       "2       Helped me achieve my goals much more quickly                    \n",
       "\n",
       "  How has the fitness wearable impacted your overall health?  \\\n",
       "0                     No impact on my overall health           \n",
       "1                Improved my overall health somewhat           \n",
       "2           Improved my overall health significantly           \n",
       "\n",
       "  Has the fitness wearable improved your sleep patterns?  \\\n",
       "0                                              Agree       \n",
       "1                                              Agree       \n",
       "2                                     Strongly agree       \n",
       "\n",
       "  Do you feel that the fitness wearable has improved your overall well-being?  \\\n",
       "0                                            Neutral                            \n",
       "1                                     Strongly agree                            \n",
       "2                                     Strongly agree                            \n",
       "\n",
       "  Has using a fitness wearable influenced your decision? [To exercise more?]  \\\n",
       "0                                     Strongly agree                           \n",
       "1                                              Agree                           \n",
       "2                                              Agree                           \n",
       "\n",
       "  Has using a fitness wearable influenced your decision? [To purchase other fitness-related products?]  \\\n",
       "0                                            Neutral                                                     \n",
       "1                                            Neutral                                                     \n",
       "2                                              Agree                                                     \n",
       "\n",
       "  Has using a fitness wearable influenced your decision? [To join a gym or fitness class?]  \\\n",
       "0                                              Agree                                         \n",
       "1                                            Neutral                                         \n",
       "2                                     Strongly agree                                         \n",
       "\n",
       "  Has using a fitness wearable influenced your decision? [To change your diet?]  \n",
       "0                                              Agree                             \n",
       "1                                            Neutral                             \n",
       "2                                              Agree                             "
      ]
     },
     "execution_count": 2,
     "metadata": {},
     "output_type": "execute_result"
    }
   ],
   "source": [
    "# loading data into pandas datafram\n",
    "Fitness_data = pd.read_csv('/kaggle/input/fitness-consumer-survey-data/survey 605.csv')\n",
    "\n",
    "# to view all column\n",
    "pd.set_option('display.max_columns', None)\n",
    "\n",
    "# data overview first 5 rows\n",
    "Fitness_data.head(3)"
   ]
  },
  {
   "cell_type": "code",
   "execution_count": 3,
   "id": "ab3555bb",
   "metadata": {
    "execution": {
     "iopub.execute_input": "2023-04-24T02:20:42.763578Z",
     "iopub.status.busy": "2023-04-24T02:20:42.763147Z",
     "iopub.status.idle": "2023-04-24T02:20:42.792682Z",
     "shell.execute_reply": "2023-04-24T02:20:42.790866Z"
    },
    "papermill": {
     "duration": 0.039183,
     "end_time": "2023-04-24T02:20:42.795470",
     "exception": false,
     "start_time": "2023-04-24T02:20:42.756287",
     "status": "completed"
    },
    "tags": []
   },
   "outputs": [
    {
     "name": "stdout",
     "output_type": "stream",
     "text": [
      "<class 'pandas.core.frame.DataFrame'>\n",
      "RangeIndex: 30 entries, 0 to 29\n",
      "Data columns (total 22 columns):\n",
      " #   Column                                                                                                Non-Null Count  Dtype \n",
      "---  ------                                                                                                --------------  ----- \n",
      " 0   Timestamp                                                                                             30 non-null     object\n",
      " 1   What is your age?                                                                                     30 non-null     object\n",
      " 2   What is your gender?                                                                                  30 non-null     object\n",
      " 3   What is your highest level of education?                                                              30 non-null     object\n",
      " 4   What is your current occupation?                                                                      30 non-null     object\n",
      " 5   How often do you exercise in a week?                                                                  30 non-null     object\n",
      " 6   How long have you been using a fitness wearable?                                                      30 non-null     object\n",
      " 7   How frequently do you use your fitness wearable?                                                      30 non-null     object\n",
      " 8   How often do you track fitness data using wearable?                                                   30 non-null     object\n",
      " 9   How has the fitness wearable impacted your fitness routine?                                           30 non-null     object\n",
      " 10  Has the fitness wearable helped you stay motivated to exercise?                                       30 non-null     object\n",
      " 11  Do you think that the fitness wearable has made exercising more enjoyable?                            30 non-null     object\n",
      " 12  How engaged do you feel with your fitness wearable?                                                   30 non-null     object\n",
      " 13  Does using a fitness wearable make you feel more connected to the fitness community?                  30 non-null     object\n",
      " 14  How has the fitness wearable helped you achieve your fitness goals?                                   30 non-null     object\n",
      " 15  How has the fitness wearable impacted your overall health?                                            30 non-null     object\n",
      " 16  Has the fitness wearable improved your sleep patterns?                                                30 non-null     object\n",
      " 17  Do you feel that the fitness wearable has improved your overall well-being?                           30 non-null     object\n",
      " 18  Has using a fitness wearable influenced your decision? [To exercise more?]                            30 non-null     object\n",
      " 19  Has using a fitness wearable influenced your decision? [To purchase other fitness-related products?]  30 non-null     object\n",
      " 20  Has using a fitness wearable influenced your decision? [To join a gym or fitness class?]              30 non-null     object\n",
      " 21  Has using a fitness wearable influenced your decision? [To change your diet?]                         30 non-null     object\n",
      "dtypes: object(22)\n",
      "memory usage: 5.3+ KB\n",
      "Data info : None\n",
      "Unique value in each column :  Timestamp                                                                                               30\n",
      "What is your age?                                                                                        6\n",
      "What is your gender?                                                                                     3\n",
      "What is your highest level of education?                                                                 6\n",
      "What is your current occupation?                                                                         6\n",
      "How often do you exercise in a week?                                                                     4\n",
      "How long have you been using a fitness wearable?                                                         4\n",
      "How frequently do you use your fitness wearable?                                                         4\n",
      "How often do you track fitness data using wearable?                                                      5\n",
      "How has the fitness wearable impacted your fitness routine?                                              4\n",
      "Has the fitness wearable helped you stay motivated to exercise?                                          4\n",
      "Do you think that the fitness wearable has made exercising more enjoyable?                               4\n",
      "How engaged do you feel with your fitness wearable?                                                      4\n",
      "Does using a fitness wearable make you feel more connected to the fitness community?                     3\n",
      "How has the fitness wearable helped you achieve your fitness goals?                                      3\n",
      "How has the fitness wearable impacted your overall health?                                               4\n",
      "Has the fitness wearable improved your sleep patterns?                                                   4\n",
      "Do you feel that the fitness wearable has improved your overall well-being?                              4\n",
      "Has using a fitness wearable influenced your decision? [To exercise more?]                               3\n",
      "Has using a fitness wearable influenced your decision? [To purchase other fitness-related products?]     4\n",
      "Has using a fitness wearable influenced your decision? [To join a gym or fitness class?]                 3\n",
      "Has using a fitness wearable influenced your decision? [To change your diet?]                            3\n",
      "dtype: int64\n"
     ]
    }
   ],
   "source": [
    "# Data information\n",
    "#print('Rows and columns in data : ' ,Fitness_data.shape)\n",
    "print('Data info :',Fitness_data.info())\n",
    "#print('Total null value in data: ',Fitness_data.isnull().sum())\n",
    "#print('Duplactes value in data : ', Fitness_data.duplicated().sum())\n",
    "print('Unique value in each column : ', Fitness_data.nunique())\n",
    "#print('Data type of each columns : ', Fitness_data.dtypes)"
   ]
  },
  {
   "cell_type": "code",
   "execution_count": 4,
   "id": "7e24b395",
   "metadata": {
    "execution": {
     "iopub.execute_input": "2023-04-24T02:20:42.808800Z",
     "iopub.status.busy": "2023-04-24T02:20:42.808346Z",
     "iopub.status.idle": "2023-04-24T02:20:42.817094Z",
     "shell.execute_reply": "2023-04-24T02:20:42.816120Z"
    },
    "papermill": {
     "duration": 0.018655,
     "end_time": "2023-04-24T02:20:42.819757",
     "exception": false,
     "start_time": "2023-04-24T02:20:42.801102",
     "status": "completed"
    },
    "tags": []
   },
   "outputs": [],
   "source": [
    "# Rnaming columns to short and simple name\n",
    "short_column_name = {'What is your age?'              : 'age', \n",
    "                     'What is your gender?'           : 'Gender',\n",
    "       'What is your highest level of education?'     : 'Education',\n",
    "       'What is your current occupation?'             : 'Occupation',\n",
    "       'How often do you exercise in a week?'         : 'Exercise_in_week',\n",
    "       'How long have you been using a fitness wearable?'  : 'Ftns_Using_duration',\n",
    "       'How frequently do you use your fitness wearable?'   : 'Frequency_Ftns_Using',\n",
    "       'How often do you track fitness data using wearable?' : 'Tracking_Ftns_data',\n",
    "       'How has the fitness wearable impacted your fitness routine?' : 'Impact_of_Ftns',\n",
    "       'Has the fitness wearable helped you stay motivated to exercise?' : 'Motivation_by_Ftns',\n",
    "       'Do you think that the fitness wearable has made exercising more enjoyable?' : 'Exrcs_interest_Ftns',\n",
    "       'How engaged do you feel with your fitness wearable?'   : 'Engagement_Ftns',\n",
    "       'Does using a fitness wearable make you feel more connected to the fitness community?' : 'Connect_Ftns_community',\n",
    "       'How has the fitness wearable helped you achieve your fitness goals?' :'Achieved_Ftns_goal',\n",
    "       'How has the fitness wearable impacted your overall health?'        :'Impact_to_health',\n",
    "       'Has the fitness wearable improved your sleep patterns?'    :    'Improved_sleep_pattern',\n",
    "       'Do you feel that the fitness wearable has improved your overall well-being?'  : 'Overall_impact_well_being',\n",
    "       'Has using a fitness wearable influenced your decision? [To exercise more?]'   : 'Influenced_to_exercise',\n",
    "       'Has using a fitness wearable influenced your decision? [To purchase other fitness-related products?]' : 'Influenced_to_purchase_FTNS_product',\n",
    "       'Has using a fitness wearable influenced your decision? [To join a gym or fitness class?]' : 'Influenced_to_join_gym',\n",
    "       'Has using a fitness wearable influenced your decision? [To change your diet?]'  : 'Influenced_to_change_diet'}\n",
    "\n",
    "Fitness_data.rename(columns = short_column_name, inplace = True)"
   ]
  },
  {
   "cell_type": "code",
   "execution_count": 5,
   "id": "aa731f2e",
   "metadata": {
    "execution": {
     "iopub.execute_input": "2023-04-24T02:20:42.832699Z",
     "iopub.status.busy": "2023-04-24T02:20:42.832021Z",
     "iopub.status.idle": "2023-04-24T02:20:42.839328Z",
     "shell.execute_reply": "2023-04-24T02:20:42.838261Z"
    },
    "papermill": {
     "duration": 0.016023,
     "end_time": "2023-04-24T02:20:42.841343",
     "exception": false,
     "start_time": "2023-04-24T02:20:42.825320",
     "status": "completed"
    },
    "tags": []
   },
   "outputs": [
    {
     "data": {
      "text/plain": [
       "Index(['Timestamp', 'age', 'Gender', 'Education', 'Occupation',\n",
       "       'Exercise_in_week', 'Ftns_Using_duration', 'Frequency_Ftns_Using',\n",
       "       'Tracking_Ftns_data', 'Impact_of_Ftns', 'Motivation_by_Ftns',\n",
       "       'Exrcs_interest_Ftns', 'Engagement_Ftns', 'Connect_Ftns_community',\n",
       "       'Achieved_Ftns_goal', 'Impact_to_health', 'Improved_sleep_pattern',\n",
       "       'Overall_impact_well_being', 'Influenced_to_exercise',\n",
       "       'Influenced_to_purchase_FTNS_product', 'Influenced_to_join_gym',\n",
       "       'Influenced_to_change_diet'],\n",
       "      dtype='object')"
      ]
     },
     "execution_count": 5,
     "metadata": {},
     "output_type": "execute_result"
    }
   ],
   "source": [
    "Fitness_data.columns"
   ]
  },
  {
   "cell_type": "code",
   "execution_count": 6,
   "id": "4261989b",
   "metadata": {
    "execution": {
     "iopub.execute_input": "2023-04-24T02:20:42.853773Z",
     "iopub.status.busy": "2023-04-24T02:20:42.853436Z",
     "iopub.status.idle": "2023-04-24T02:20:42.881177Z",
     "shell.execute_reply": "2023-04-24T02:20:42.879825Z"
    },
    "papermill": {
     "duration": 0.036747,
     "end_time": "2023-04-24T02:20:42.883479",
     "exception": false,
     "start_time": "2023-04-24T02:20:42.846732",
     "status": "completed"
    },
    "tags": []
   },
   "outputs": [
    {
     "data": {
      "text/html": [
       "<div>\n",
       "<style scoped>\n",
       "    .dataframe tbody tr th:only-of-type {\n",
       "        vertical-align: middle;\n",
       "    }\n",
       "\n",
       "    .dataframe tbody tr th {\n",
       "        vertical-align: top;\n",
       "    }\n",
       "\n",
       "    .dataframe thead th {\n",
       "        text-align: right;\n",
       "    }\n",
       "</style>\n",
       "<table border=\"1\" class=\"dataframe\">\n",
       "  <thead>\n",
       "    <tr style=\"text-align: right;\">\n",
       "      <th></th>\n",
       "      <th>Timestamp</th>\n",
       "      <th>age</th>\n",
       "      <th>Gender</th>\n",
       "      <th>Education</th>\n",
       "      <th>Occupation</th>\n",
       "      <th>Exercise_in_week</th>\n",
       "      <th>Ftns_Using_duration</th>\n",
       "      <th>Frequency_Ftns_Using</th>\n",
       "      <th>Tracking_Ftns_data</th>\n",
       "      <th>Impact_of_Ftns</th>\n",
       "      <th>Motivation_by_Ftns</th>\n",
       "      <th>Exrcs_interest_Ftns</th>\n",
       "      <th>Engagement_Ftns</th>\n",
       "      <th>Connect_Ftns_community</th>\n",
       "      <th>Achieved_Ftns_goal</th>\n",
       "      <th>Impact_to_health</th>\n",
       "      <th>Improved_sleep_pattern</th>\n",
       "      <th>Overall_impact_well_being</th>\n",
       "      <th>Influenced_to_exercise</th>\n",
       "      <th>Influenced_to_purchase_FTNS_product</th>\n",
       "      <th>Influenced_to_join_gym</th>\n",
       "      <th>Influenced_to_change_diet</th>\n",
       "    </tr>\n",
       "  </thead>\n",
       "  <tbody>\n",
       "    <tr>\n",
       "      <th>0</th>\n",
       "      <td>2023/03/30 9:43:19 PM GMT+5:30</td>\n",
       "      <td>18-24</td>\n",
       "      <td>Male</td>\n",
       "      <td>Some college or associate degree</td>\n",
       "      <td>Student</td>\n",
       "      <td>5 or more times a week</td>\n",
       "      <td>Less than 6 months</td>\n",
       "      <td>Daily</td>\n",
       "      <td>Every day</td>\n",
       "      <td>Positively impacted my fitness routine</td>\n",
       "      <td>Strongly agree</td>\n",
       "      <td>Strongly agree</td>\n",
       "      <td>Very engaged</td>\n",
       "      <td>Agree</td>\n",
       "      <td>No impact on achieving my goals</td>\n",
       "      <td>No impact on my overall health</td>\n",
       "      <td>Agree</td>\n",
       "      <td>Neutral</td>\n",
       "      <td>Strongly agree</td>\n",
       "      <td>Neutral</td>\n",
       "      <td>Agree</td>\n",
       "      <td>Agree</td>\n",
       "    </tr>\n",
       "    <tr>\n",
       "      <th>1</th>\n",
       "      <td>2023/03/31 5:07:46 PM GMT+5:30</td>\n",
       "      <td>Under 18</td>\n",
       "      <td>Male</td>\n",
       "      <td>Bachelor's degree</td>\n",
       "      <td>Student</td>\n",
       "      <td>5 or more times a week</td>\n",
       "      <td>Less than 6 months</td>\n",
       "      <td>3-4 times a week</td>\n",
       "      <td>Once a week</td>\n",
       "      <td>Positively impacted my fitness routine</td>\n",
       "      <td>Neutral</td>\n",
       "      <td>Agree</td>\n",
       "      <td>Somewhat engaged</td>\n",
       "      <td>Agree</td>\n",
       "      <td>Helped me achieve my goals somewhat more quickly</td>\n",
       "      <td>Improved my overall health somewhat</td>\n",
       "      <td>Agree</td>\n",
       "      <td>Strongly agree</td>\n",
       "      <td>Agree</td>\n",
       "      <td>Neutral</td>\n",
       "      <td>Neutral</td>\n",
       "      <td>Neutral</td>\n",
       "    </tr>\n",
       "    <tr>\n",
       "      <th>2</th>\n",
       "      <td>2023/03/31 7:44:46 PM GMT+5:30</td>\n",
       "      <td>18-24</td>\n",
       "      <td>Female</td>\n",
       "      <td>Bachelor's degree</td>\n",
       "      <td>Student</td>\n",
       "      <td>Less than once a week</td>\n",
       "      <td>Less than 6 months</td>\n",
       "      <td>Rarely</td>\n",
       "      <td>Rarely</td>\n",
       "      <td>Positively impacted my fitness routine</td>\n",
       "      <td>Strongly agree</td>\n",
       "      <td>Agree</td>\n",
       "      <td>Not very engaged</td>\n",
       "      <td>Strongly agree</td>\n",
       "      <td>Helped me achieve my goals much more quickly</td>\n",
       "      <td>Improved my overall health significantly</td>\n",
       "      <td>Strongly agree</td>\n",
       "      <td>Strongly agree</td>\n",
       "      <td>Agree</td>\n",
       "      <td>Agree</td>\n",
       "      <td>Strongly agree</td>\n",
       "      <td>Agree</td>\n",
       "    </tr>\n",
       "    <tr>\n",
       "      <th>3</th>\n",
       "      <td>2023/03/31 9:36:07 PM GMT+5:30</td>\n",
       "      <td>25-34</td>\n",
       "      <td>Female</td>\n",
       "      <td>Some college or associate degree</td>\n",
       "      <td>Employed part-time</td>\n",
       "      <td>3-4 times a week</td>\n",
       "      <td>6-12 months</td>\n",
       "      <td>3-4 times a week</td>\n",
       "      <td>Every day</td>\n",
       "      <td>I don't know</td>\n",
       "      <td>Strongly agree</td>\n",
       "      <td>Agree</td>\n",
       "      <td>Somewhat engaged</td>\n",
       "      <td>Strongly agree</td>\n",
       "      <td>Helped me achieve my goals somewhat more quickly</td>\n",
       "      <td>Improved my overall health somewhat</td>\n",
       "      <td>Agree</td>\n",
       "      <td>Strongly agree</td>\n",
       "      <td>Agree</td>\n",
       "      <td>Disagree</td>\n",
       "      <td>Neutral</td>\n",
       "      <td>Agree</td>\n",
       "    </tr>\n",
       "    <tr>\n",
       "      <th>4</th>\n",
       "      <td>2023/03/31 9:37:32 PM GMT+5:30</td>\n",
       "      <td>18-24</td>\n",
       "      <td>Male</td>\n",
       "      <td>Bachelor's degree</td>\n",
       "      <td>Student</td>\n",
       "      <td>1-2 times a week</td>\n",
       "      <td>Less than 6 months</td>\n",
       "      <td>Daily</td>\n",
       "      <td>Every other day</td>\n",
       "      <td>Positively impacted my fitness routine</td>\n",
       "      <td>Neutral</td>\n",
       "      <td>Agree</td>\n",
       "      <td>Neutral</td>\n",
       "      <td>Agree</td>\n",
       "      <td>Helped me achieve my goals much more quickly</td>\n",
       "      <td>Improved my overall health significantly</td>\n",
       "      <td>Agree</td>\n",
       "      <td>Strongly agree</td>\n",
       "      <td>Agree</td>\n",
       "      <td>Neutral</td>\n",
       "      <td>Agree</td>\n",
       "      <td>Strongly agree</td>\n",
       "    </tr>\n",
       "  </tbody>\n",
       "</table>\n",
       "</div>"
      ],
      "text/plain": [
       "                        Timestamp       age  Gender  \\\n",
       "0  2023/03/30 9:43:19 PM GMT+5:30     18-24    Male   \n",
       "1  2023/03/31 5:07:46 PM GMT+5:30  Under 18    Male   \n",
       "2  2023/03/31 7:44:46 PM GMT+5:30     18-24  Female   \n",
       "3  2023/03/31 9:36:07 PM GMT+5:30     25-34  Female   \n",
       "4  2023/03/31 9:37:32 PM GMT+5:30     18-24    Male   \n",
       "\n",
       "                          Education          Occupation  \\\n",
       "0  Some college or associate degree             Student   \n",
       "1                 Bachelor's degree             Student   \n",
       "2                 Bachelor's degree             Student   \n",
       "3  Some college or associate degree  Employed part-time   \n",
       "4                 Bachelor's degree             Student   \n",
       "\n",
       "         Exercise_in_week Ftns_Using_duration Frequency_Ftns_Using  \\\n",
       "0  5 or more times a week  Less than 6 months                Daily   \n",
       "1  5 or more times a week  Less than 6 months     3-4 times a week   \n",
       "2   Less than once a week  Less than 6 months               Rarely   \n",
       "3        3-4 times a week         6-12 months     3-4 times a week   \n",
       "4        1-2 times a week  Less than 6 months                Daily   \n",
       "\n",
       "  Tracking_Ftns_data                          Impact_of_Ftns  \\\n",
       "0          Every day  Positively impacted my fitness routine   \n",
       "1        Once a week  Positively impacted my fitness routine   \n",
       "2             Rarely  Positively impacted my fitness routine   \n",
       "3          Every day                            I don't know   \n",
       "4    Every other day  Positively impacted my fitness routine   \n",
       "\n",
       "  Motivation_by_Ftns Exrcs_interest_Ftns   Engagement_Ftns  \\\n",
       "0     Strongly agree      Strongly agree      Very engaged   \n",
       "1            Neutral               Agree  Somewhat engaged   \n",
       "2     Strongly agree               Agree  Not very engaged   \n",
       "3     Strongly agree               Agree  Somewhat engaged   \n",
       "4            Neutral               Agree           Neutral   \n",
       "\n",
       "  Connect_Ftns_community                                Achieved_Ftns_goal  \\\n",
       "0                  Agree                   No impact on achieving my goals   \n",
       "1                  Agree  Helped me achieve my goals somewhat more quickly   \n",
       "2         Strongly agree      Helped me achieve my goals much more quickly   \n",
       "3         Strongly agree  Helped me achieve my goals somewhat more quickly   \n",
       "4                  Agree      Helped me achieve my goals much more quickly   \n",
       "\n",
       "                           Impact_to_health Improved_sleep_pattern  \\\n",
       "0            No impact on my overall health                  Agree   \n",
       "1       Improved my overall health somewhat                  Agree   \n",
       "2  Improved my overall health significantly         Strongly agree   \n",
       "3       Improved my overall health somewhat                  Agree   \n",
       "4  Improved my overall health significantly                  Agree   \n",
       "\n",
       "  Overall_impact_well_being Influenced_to_exercise  \\\n",
       "0                   Neutral         Strongly agree   \n",
       "1            Strongly agree                  Agree   \n",
       "2            Strongly agree                  Agree   \n",
       "3            Strongly agree                  Agree   \n",
       "4            Strongly agree                  Agree   \n",
       "\n",
       "  Influenced_to_purchase_FTNS_product Influenced_to_join_gym  \\\n",
       "0                             Neutral                  Agree   \n",
       "1                             Neutral                Neutral   \n",
       "2                               Agree         Strongly agree   \n",
       "3                            Disagree                Neutral   \n",
       "4                             Neutral                  Agree   \n",
       "\n",
       "  Influenced_to_change_diet  \n",
       "0                     Agree  \n",
       "1                   Neutral  \n",
       "2                     Agree  \n",
       "3                     Agree  \n",
       "4            Strongly agree  "
      ]
     },
     "execution_count": 6,
     "metadata": {},
     "output_type": "execute_result"
    }
   ],
   "source": [
    "Fitness_data.head()"
   ]
  },
  {
   "cell_type": "markdown",
   "id": "69eb958c",
   "metadata": {
    "papermill": {
     "duration": 0.005759,
     "end_time": "2023-04-24T02:20:42.895258",
     "exception": false,
     "start_time": "2023-04-24T02:20:42.889499",
     "status": "completed"
    },
    "tags": []
   },
   "source": [
    "<p style=\"text-align:center;color:green;font-size:30px;\"> Univeriate Analysis </p>"
   ]
  },
  {
   "cell_type": "code",
   "execution_count": 7,
   "id": "8bce1566",
   "metadata": {
    "execution": {
     "iopub.execute_input": "2023-04-24T02:20:42.909328Z",
     "iopub.status.busy": "2023-04-24T02:20:42.908191Z",
     "iopub.status.idle": "2023-04-24T02:20:42.916656Z",
     "shell.execute_reply": "2023-04-24T02:20:42.915805Z"
    },
    "papermill": {
     "duration": 0.017804,
     "end_time": "2023-04-24T02:20:42.918803",
     "exception": false,
     "start_time": "2023-04-24T02:20:42.900999",
     "status": "completed"
    },
    "tags": []
   },
   "outputs": [
    {
     "name": "stdout",
     "output_type": "stream",
     "text": [
      "Unique value in this column :  30\n"
     ]
    },
    {
     "data": {
      "text/plain": [
       "array(['2023/03/30 9:43:19 PM GMT+5:30', '2023/03/31 5:07:46 PM GMT+5:30',\n",
       "       '2023/03/31 7:44:46 PM GMT+5:30', '2023/03/31 9:36:07 PM GMT+5:30',\n",
       "       '2023/03/31 9:37:32 PM GMT+5:30', '2023/03/31 9:38:56 PM GMT+5:30',\n",
       "       '2023/03/31 11:10:50 PM GMT+5:30',\n",
       "       '2023/04/02 11:50:08 AM GMT+5:30',\n",
       "       '2023/04/02 11:53:14 AM GMT+5:30',\n",
       "       '2023/04/02 11:53:50 AM GMT+5:30',\n",
       "       '2023/04/02 11:54:26 AM GMT+5:30',\n",
       "       '2023/04/02 3:29:01 PM GMT+5:30', '2023/04/02 3:31:50 PM GMT+5:30',\n",
       "       '2023/04/02 3:32:33 PM GMT+5:30', '2023/04/02 3:34:23 PM GMT+5:30',\n",
       "       '2023/04/02 3:36:08 PM GMT+5:30', '2023/04/06 2:16:21 PM GMT+5:30',\n",
       "       '2023/04/06 2:17:35 PM GMT+5:30',\n",
       "       '2023/04/07 10:40:32 AM GMT+5:30',\n",
       "       '2023/04/07 10:41:39 AM GMT+5:30',\n",
       "       '2023/04/07 11:54:16 AM GMT+5:30',\n",
       "       '2023/04/07 11:55:25 AM GMT+5:30',\n",
       "       '2023/04/07 11:56:17 AM GMT+5:30',\n",
       "       '2023/04/07 11:57:19 AM GMT+5:30',\n",
       "       '2023/04/07 11:58:32 AM GMT+5:30',\n",
       "       '2023/04/07 12:22:25 PM GMT+5:30',\n",
       "       '2023/04/07 12:23:16 PM GMT+5:30',\n",
       "       '2023/04/07 12:23:59 PM GMT+5:30',\n",
       "       '2023/04/07 12:25:16 PM GMT+5:30',\n",
       "       '2023/04/07 12:26:47 PM GMT+5:30'], dtype=object)"
      ]
     },
     "execution_count": 7,
     "metadata": {},
     "output_type": "execute_result"
    }
   ],
   "source": [
    "# Column information\n",
    "print('Unique value in this column : ', Fitness_data['Timestamp'].nunique())\n",
    "Fitness_data['Timestamp'].unique()"
   ]
  },
  {
   "cell_type": "code",
   "execution_count": 8,
   "id": "b26df7f0",
   "metadata": {
    "execution": {
     "iopub.execute_input": "2023-04-24T02:20:42.932308Z",
     "iopub.status.busy": "2023-04-24T02:20:42.931941Z",
     "iopub.status.idle": "2023-04-24T02:20:43.273450Z",
     "shell.execute_reply": "2023-04-24T02:20:43.272112Z"
    },
    "papermill": {
     "duration": 0.351208,
     "end_time": "2023-04-24T02:20:43.275978",
     "exception": false,
     "start_time": "2023-04-24T02:20:42.924770",
     "status": "completed"
    },
    "tags": []
   },
   "outputs": [
    {
     "name": "stdout",
     "output_type": "stream",
     "text": [
      "Total Unique value in this column :  6\n",
      "Unique value in this column ['18-24' 'Under 18' '25-34' '35-44' '45-54' '55-64']\n"
     ]
    },
    {
     "data": {
      "text/plain": [
       "<AxesSubplot:title={'center':'Count of people by age group'}, xlabel='Age Group', ylabel='Count of each age group'>"
      ]
     },
     "execution_count": 8,
     "metadata": {},
     "output_type": "execute_result"
    },
    {
     "data": {
      "image/png": "[encoded data removed]",
      "text/plain": [
       "<Figure size 1200x500 with 1 Axes>"
      ]
     },
     "metadata": {},
     "output_type": "display_data"
    }
   ],
   "source": [
    "# Column information\n",
    "print('Total Unique value in this column : ', Fitness_data['age'].nunique())\n",
    "print('Unique value in this column', Fitness_data['age'].unique())\n",
    "\n",
    "Fitness_data['age'].value_counts().plot(kind = 'bar' , title = 'Count of people by age group', \n",
    "                             figsize = (12,5) ,xlabel = 'Age Group', ylabel = 'Count of each age group')"
   ]
  },
  {
   "cell_type": "markdown",
   "id": "6a8690cf",
   "metadata": {
    "papermill": {
     "duration": 0.006094,
     "end_time": "2023-04-24T02:20:43.288943",
     "exception": false,
     "start_time": "2023-04-24T02:20:43.282849",
     "status": "completed"
    },
    "tags": []
   },
   "source": [
    "## The above bar graph shows that people between 18 to 24 year are using fitness wearable most            || people who are older then 34 year are using it less "
   ]
  },
  {
   "cell_type": "code",
   "execution_count": 9,
   "id": "d0f97287",
   "metadata": {
    "execution": {
     "iopub.execute_input": "2023-04-24T02:20:43.303704Z",
     "iopub.status.busy": "2023-04-24T02:20:43.303301Z",
     "iopub.status.idle": "2023-04-24T02:20:43.466359Z",
     "shell.execute_reply": "2023-04-24T02:20:43.464523Z"
    },
    "papermill": {
     "duration": 0.175247,
     "end_time": "2023-04-24T02:20:43.470679",
     "exception": false,
     "start_time": "2023-04-24T02:20:43.295432",
     "status": "completed"
    },
    "tags": []
   },
   "outputs": [
    {
     "name": "stdout",
     "output_type": "stream",
     "text": [
      "Unique value in this column :  3\n"
     ]
    },
    {
     "data": {
      "text/plain": [
       "<AxesSubplot:title={'center':'Pie Chart of gender column by count'}, ylabel='Gender'>"
      ]
     },
     "execution_count": 9,
     "metadata": {},
     "output_type": "execute_result"
    },
    {
     "data": {
      "image/png": "[encoded data removed]",
      "text/plain": [
       "<Figure size 640x480 with 1 Axes>"
      ]
     },
     "metadata": {},
     "output_type": "display_data"
    }
   ],
   "source": [
    "print('Unique value in this column : ', Fitness_data['Gender'].nunique())\n",
    "\n",
    "Fitness_data['Gender'].value_counts().plot(kind = 'pie' , title = 'Pie Chart of gender column by count', \n",
    "                             autopct=\"%.0f%%\", colormap='Wistia')"
   ]
  },
  {
   "cell_type": "markdown",
   "id": "21824558",
   "metadata": {
    "papermill": {
     "duration": 0.020179,
     "end_time": "2023-04-24T02:20:43.509714",
     "exception": false,
     "start_time": "2023-04-24T02:20:43.489535",
     "status": "completed"
    },
    "tags": []
   },
   "source": [
    "## Above pie chart indicates that female are using more Fitness wearable then male \n",
    "## 7 % people don't prefer to reveal their gender information"
   ]
  },
  {
   "cell_type": "code",
   "execution_count": 10,
   "id": "db5d42e0",
   "metadata": {
    "execution": {
     "iopub.execute_input": "2023-04-24T02:20:43.527521Z",
     "iopub.status.busy": "2023-04-24T02:20:43.527061Z",
     "iopub.status.idle": "2023-04-24T02:20:43.534572Z",
     "shell.execute_reply": "2023-04-24T02:20:43.533683Z"
    },
    "papermill": {
     "duration": 0.01871,
     "end_time": "2023-04-24T02:20:43.536968",
     "exception": false,
     "start_time": "2023-04-24T02:20:43.518258",
     "status": "completed"
    },
    "tags": []
   },
   "outputs": [
    {
     "name": "stdout",
     "output_type": "stream",
     "text": [
      "Total Unique value in this column :  6\n",
      "Unique value in this column :- ['Some college or associate degree' \"Bachelor's degree\" \"Master's degree\"\n",
      " 'High school diploma' 'Doctorate or professional degree'\n",
      " 'Less than high school']\n"
     ]
    }
   ],
   "source": [
    "# Column information\n",
    "print('Total Unique value in this column : ', Fitness_data['Education'].nunique())\n",
    "print('Unique value in this column :-', Fitness_data['Education'].unique())"
   ]
  },
  {
   "cell_type": "code",
   "execution_count": 11,
   "id": "2b2705da",
   "metadata": {
    "execution": {
     "iopub.execute_input": "2023-04-24T02:20:43.554560Z",
     "iopub.status.busy": "2023-04-24T02:20:43.553368Z",
     "iopub.status.idle": "2023-04-24T02:20:43.860510Z",
     "shell.execute_reply": "2023-04-24T02:20:43.859337Z"
    },
    "papermill": {
     "duration": 0.31859,
     "end_time": "2023-04-24T02:20:43.863054",
     "exception": false,
     "start_time": "2023-04-24T02:20:43.544464",
     "status": "completed"
    },
    "tags": []
   },
   "outputs": [
    {
     "data": {
      "text/plain": [
       "<AxesSubplot:title={'center':'Education of People who using Fitness wearable'}, ylabel='Count'>"
      ]
     },
     "execution_count": 11,
     "metadata": {},
     "output_type": "execute_result"
    },
    {
     "data": {
      "image/png": "[encoded data removed]",
      "text/plain": [
       "<Figure size 1200x800 with 1 Axes>"
      ]
     },
     "metadata": {},
     "output_type": "display_data"
    }
   ],
   "source": [
    "# Ploting the column\n",
    "Fitness_data['Education'].value_counts().plot(kind = 'barh' , title = 'Education of People who using Fitness wearable', \n",
    "                             figsize = (12,8) ,xlabel = 'Count', ylabel = 'Heighest Education',colormap='spring')"
   ]
  },
  {
   "cell_type": "markdown",
   "id": "af49115d",
   "metadata": {
    "papermill": {
     "duration": 0.008324,
     "end_time": "2023-04-24T02:20:43.879817",
     "exception": false,
     "start_time": "2023-04-24T02:20:43.871493",
     "status": "completed"
    },
    "tags": []
   },
   "source": [
    "## Most of the people studied till Highschool , people who studied less then highschool are not using Fitness wearable much"
   ]
  },
  {
   "cell_type": "code",
   "execution_count": 12,
   "id": "caf09279",
   "metadata": {
    "execution": {
     "iopub.execute_input": "2023-04-24T02:20:43.898970Z",
     "iopub.status.busy": "2023-04-24T02:20:43.898495Z",
     "iopub.status.idle": "2023-04-24T02:20:44.099507Z",
     "shell.execute_reply": "2023-04-24T02:20:44.097359Z"
    },
    "papermill": {
     "duration": 0.21688,
     "end_time": "2023-04-24T02:20:44.105136",
     "exception": false,
     "start_time": "2023-04-24T02:20:43.888256",
     "status": "completed"
    },
    "tags": []
   },
   "outputs": [
    {
     "data": {
      "text/plain": [
       "<AxesSubplot:title={'center':'Pie Chart of Occupation column by count'}, ylabel='Occupation'>"
      ]
     },
     "execution_count": 12,
     "metadata": {},
     "output_type": "execute_result"
    },
    {
     "data": {
      "image/png": "[encoded data removed]",
      "text/plain": [
       "<Figure size 640x480 with 1 Axes>"
      ]
     },
     "metadata": {},
     "output_type": "display_data"
    }
   ],
   "source": [
    "Fitness_data['Occupation'].value_counts().plot(kind = 'pie' , title = 'Pie Chart of Occupation column by count', \n",
    "                             autopct=\"%.0f%%\", colormap='Wistia')"
   ]
  },
  {
   "cell_type": "markdown",
   "id": "21f45f0e",
   "metadata": {
    "papermill": {
     "duration": 0.008908,
     "end_time": "2023-04-24T02:20:44.132712",
     "exception": false,
     "start_time": "2023-04-24T02:20:44.123804",
     "status": "completed"
    },
    "tags": []
   },
   "source": [
    "## 53 % percante people are either student or self employed"
   ]
  },
  {
   "cell_type": "markdown",
   "id": "31eb54fc",
   "metadata": {
    "papermill": {
     "duration": 0.008653,
     "end_time": "2023-04-24T02:20:44.150451",
     "exception": false,
     "start_time": "2023-04-24T02:20:44.141798",
     "status": "completed"
    },
    "tags": []
   },
   "source": [
    "# Will continue this in upcoming version "
   ]
  }
 ],
 "metadata": {
  "kernelspec": {
   "display_name": "Python 3",
   "language": "python",
   "name": "python3"
  },
  "language_info": {
   "codemirror_mode": {
    "name": "ipython",
    "version": 3
   },
   "file_extension": ".py",
   "mimetype": "text/x-python",
   "name": "python",
   "nbconvert_exporter": "python",
   "pygments_lexer": "ipython3",
   "version": "3.7.12"
  },
  "papermill": {
   "default_parameters": {},
   "duration": 14.523006,
   "end_time": "2023-04-24T02:20:44.983302",
   "environment_variables": {},
   "exception": null,
   "input_path": "__notebook__.ipynb",
   "output_path": "__notebook__.ipynb",
   "parameters": {},
   "start_time": "2023-04-24T02:20:30.460296",
   "version": "2.4.0"
  }
 },
 "nbformat": 4,
 "nbformat_minor": 5
}
